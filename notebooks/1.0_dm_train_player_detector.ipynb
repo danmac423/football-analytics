{
  "cells": [
    {
      "cell_type": "markdown",
      "metadata": {
        "id": "oe9vkEvFABbN"
      },
      "source": [
        "# Train Soccer Player Detector\n",
        "\n",
        "---\n",
        "\n",
        "[![Download Dataset](https://app.roboflow.com/images/download-dataset-badge.svg)](https://universe.roboflow.com/roboflow-jvuqo/football-players-detection-3zvbc)"
      ]
    },
    {
      "cell_type": "markdown",
      "metadata": {
        "id": "BFTHwkqN7RE2"
      },
      "source": [
        "## Configure API keys\n",
        "\n",
        "- Open your [`Roboflow Settings`](https://app.roboflow.com/settings/api) page. Click `Copy`. This will place your private key in the clipboard.\n",
        "- In Colab, go to the left pane and click on `Secrets` (🔑). Store Roboflow API Key under the name `ROBOFLOW_API_KEY`."
      ]
    },
    {
      "cell_type": "markdown",
      "metadata": {
        "id": "FyRdDYkqAKN4"
      },
      "source": [
        "## Before you start\n",
        "\n",
        "Let's make sure that we have access to GPU. We can use `nvidia-smi` command to do that. In case of any problems navigate to `Edit` -> `Notebook settings` -> `Hardware accelerator`, set it to `GPU`, and then click `Save`."
      ]
    },
    {
      "cell_type": "code",
      "execution_count": null,
      "metadata": {
        "colab": {
          "base_uri": "https://localhost:8080/"
        },
        "executionInfo": {
          "elapsed": 305,
          "status": "ok",
          "timestamp": 1736687991334,
          "user": {
            "displayName": "",
            "userId": ""
          },
          "user_tz": -60
        },
        "id": "Y8cDtxLIBHgQ",
        "outputId": "4bd5994a-5f71-42da-d1e4-89675c587e07"
      },
      "outputs": [],
      "source": [
        "!nvidia-smi"
      ]
    },
    {
      "cell_type": "code",
      "execution_count": null,
      "metadata": {
        "colab": {
          "base_uri": "https://localhost:8080/"
        },
        "executionInfo": {
          "elapsed": 301,
          "status": "ok",
          "timestamp": 1736687994076,
          "user": {
            "displayName": "",
            "userId": ""
          },
          "user_tz": -60
        },
        "id": "CjpPg4mGKc1v",
        "outputId": "4617481f-9025-4981-8e8c-ae77311410ac"
      },
      "outputs": [],
      "source": [
        "import os\n",
        "HOME = os.getcwd()\n",
        "print(HOME)"
      ]
    },
    {
      "cell_type": "markdown",
      "metadata": {
        "id": "3C3EO_2zNChu"
      },
      "source": [
        "## Install dependencies"
      ]
    },
    {
      "cell_type": "code",
      "execution_count": null,
      "metadata": {
        "colab": {
          "base_uri": "https://localhost:8080/"
        },
        "executionInfo": {
          "elapsed": 5607,
          "status": "ok",
          "timestamp": 1736688001564,
          "user": {
            "displayName": "",
            "userId": ""
          },
          "user_tz": -60
        },
        "id": "tdSMcABDNKW-",
        "outputId": "223c2eef-1323-4bcd-a744-639eebd66278"
      },
      "outputs": [],
      "source": [
        "!pip install -q ultralytics roboflow\n",
        "!pip install google-cloud-secret-manager"
      ]
    },
    {
      "cell_type": "markdown",
      "metadata": {
        "id": "toRPG1ZRIRcp"
      },
      "source": [
        "## Imports"
      ]
    },
    {
      "cell_type": "code",
      "execution_count": 4,
      "metadata": {
        "executionInfo": {
          "elapsed": 2,
          "status": "ok",
          "timestamp": 1736688005860,
          "user": {
            "displayName": "",
            "userId": ""
          },
          "user_tz": -60
        },
        "id": "CdPxfoInIS4o"
      },
      "outputs": [],
      "source": [
        "from roboflow import Roboflow\n",
        "from google.colab import userdata\n",
        "from IPython.display import Image\n",
        "from google.cloud import secretmanager\n"
      ]
    },
    {
      "cell_type": "markdown",
      "metadata": {
        "id": "HbnZCwOgHIBa"
      },
      "source": [
        "## Pull dataset"
      ]
    },
    {
      "cell_type": "code",
      "execution_count": null,
      "metadata": {
        "colab": {
          "base_uri": "https://localhost:8080/"
        },
        "executionInfo": {
          "elapsed": 3265,
          "status": "ok",
          "timestamp": 1736688012167,
          "user": {
            "displayName": "",
            "userId": ""
          },
          "user_tz": -60
        },
        "id": "BSd93ZJzZZKt",
        "outputId": "5d9e5d36-a1d0-487c-aacb-2bd7bf832bf7"
      },
      "outputs": [],
      "source": [
        "!mkdir {HOME}/datasets\n",
        "%cd {HOME}/datasets\n",
        "\n",
        "client = secretmanager.SecretManagerServiceClient()\n",
        "response = client.access_secret_version(request={\"name\": \"projects/707857790047/secrets/ROBOFLOW_API_KEY/versions/latest\"})\n",
        "\n",
        "ROBOFLOW_API_KEY = response.payload.data.decode(\"UTF-8\")\n",
        "rf = Roboflow(api_key=ROBOFLOW_API_KEY)\n",
        "\n",
        "project = rf.workspace(\"roboflow-jvuqo\").project(\"football-players-detection-3zvbc\")\n",
        "version = project.version(12)\n",
        "dataset = version.download(\"yolov11\")"
      ]
    },
    {
      "cell_type": "markdown",
      "metadata": {
        "id": "KALkPbAtoQB1"
      },
      "source": [
        "NOTE: Dataset contains 4 classes: 'ball', 'goalkeeper', 'player', 'referee'. We want to ignore 'ball' class. To do it, make changes in `data.yaml`. Change values `nc` to `3` and `names` to `['goalkeeper', 'player', 'referee']`. Then run the script below."
      ]
    },
    {
      "cell_type": "code",
      "execution_count": 6,
      "metadata": {
        "executionInfo": {
          "elapsed": 338,
          "status": "ok",
          "timestamp": 1736688021931,
          "user": {
            "displayName": "",
            "userId": ""
          },
          "user_tz": -60
        },
        "id": "OQYCTrr9bdK2"
      },
      "outputs": [],
      "source": [
        "import os\n",
        "\n",
        "\n",
        "datasets_dirs = os.listdir(f\"{HOME}/datasets\")\n",
        "datasets_dirs = [os.path.abspath(dir) for dir in datasets_dirs]\n",
        "\n",
        "datasests_to_clear = [\"test\", \"train\", \"valid\"]\n",
        "\n",
        "for datasets_dir in datasets_dirs:\n",
        "  for dataset_to_clear in datasests_to_clear:\n",
        "    for file_name in os.listdir(f\"{datasets_dir}/{dataset_to_clear}/labels\"):\n",
        "      file_path = f\"{datasets_dir}/{dataset_to_clear}/labels/{file_name}\"\n",
        "\n",
        "      with open(file_path, \"r+\") as f:\n",
        "        lines = f.readlines()\n",
        "        f.seek(0)\n",
        "        f.truncate(0)\n",
        "        for line in lines:\n",
        "          if line.startswith(\"0\"):\n",
        "              continue\n",
        "\n",
        "          processed_line = \" \".join(\n",
        "              str(int(float(value)) - 1) if i == 0 else value\n",
        "              for i, value in enumerate(line.split())\n",
        "          )\n",
        "          f.write(processed_line + \"\\n\")"
      ]
    },
    {
      "cell_type": "markdown",
      "metadata": {
        "id": "Log0mPTDJ70l"
      },
      "source": [
        "**NOTE:** Update `data.yaml` structure to align with the latest requirements of the `ultralytics` package.\n",
        "\n"
      ]
    },
    {
      "cell_type": "code",
      "execution_count": 7,
      "metadata": {
        "executionInfo": {
          "elapsed": 321,
          "status": "ok",
          "timestamp": 1736688025344,
          "user": {
            "displayName": "",
            "userId": ""
          },
          "user_tz": -60
        },
        "id": "imoXKjB0Jrsd"
      },
      "outputs": [],
      "source": [
        "!sed -i 's|\\(train: \\).*|\\1../train/images|' {dataset.location}/data.yaml\n",
        "!sed -i 's|\\(val: \\).*|\\1../valid/images|' {dataset.location}/data.yaml"
      ]
    },
    {
      "cell_type": "markdown",
      "metadata": {
        "id": "YUjFBKKqXa-u"
      },
      "source": [
        "## Custom training"
      ]
    },
    {
      "cell_type": "code",
      "execution_count": null,
      "metadata": {
        "colab": {
          "base_uri": "https://localhost:8080/"
        },
        "executionInfo": {
          "elapsed": 3925515,
          "status": "ok",
          "timestamp": 1736694856601,
          "user": {
            "displayName": "",
            "userId": ""
          },
          "user_tz": -60
        },
        "id": "D2YkphuiaE7_",
        "outputId": "8b038ef7-86b7-4546-df10-c0acecadce5a"
      },
      "outputs": [],
      "source": [
        "%cd {HOME}\n",
        "\n",
        "!yolo task=detect mode=train model=yolo11x.pt data={dataset.location}/data.yaml batch=5 epochs=100 imgsz=1280 plots=True"
      ]
    },
    {
      "cell_type": "code",
      "execution_count": null,
      "metadata": {
        "colab": {
          "base_uri": "https://localhost:8080/"
        },
        "executionInfo": {
          "elapsed": 331,
          "status": "ok",
          "timestamp": 1736695162002,
          "user": {
            "displayName": "",
            "userId": ""
          },
          "user_tz": -60
        },
        "id": "1MScstfHhArr",
        "outputId": "bff59dbe-7a36-4012-c44a-337ae51035c6"
      },
      "outputs": [],
      "source": [
        "!ls {HOME}/runs/detect/train/"
      ]
    },
    {
      "cell_type": "code",
      "execution_count": null,
      "metadata": {
        "colab": {
          "base_uri": "https://localhost:8080/",
          "height": 485
        },
        "executionInfo": {
          "elapsed": 504,
          "status": "ok",
          "timestamp": 1736695166027,
          "user": {
            "displayName": "",
            "userId": ""
          },
          "user_tz": -60
        },
        "id": "_J35i8Ofhjxa",
        "outputId": "f6193f04-f6a4-47dd-ef90-cf46baec5d3f"
      },
      "outputs": [],
      "source": [
        "%cd {HOME}\n",
        "Image(filename=f'{HOME}/runs/detect/train/confusion_matrix.png', width=600)"
      ]
    },
    {
      "cell_type": "code",
      "execution_count": null,
      "metadata": {
        "colab": {
          "base_uri": "https://localhost:8080/",
          "height": 335
        },
        "executionInfo": {
          "elapsed": 660,
          "status": "ok",
          "timestamp": 1736695180669,
          "user": {
            "displayName": "",
            "userId": ""
          },
          "user_tz": -60
        },
        "id": "A-urTWUkhRmn",
        "outputId": "e123f191-d66b-4a62-906a-31b90cd63a7c"
      },
      "outputs": [],
      "source": [
        "%cd {HOME}\n",
        "Image(filename=f'{HOME}/runs/detect/train/results.png', width=600)"
      ]
    },
    {
      "cell_type": "code",
      "execution_count": null,
      "metadata": {
        "colab": {
          "base_uri": "https://localhost:8080/",
          "height": 635
        },
        "executionInfo": {
          "elapsed": 852,
          "status": "ok",
          "timestamp": 1736695188295,
          "user": {
            "displayName": "",
            "userId": ""
          },
          "user_tz": -60
        },
        "id": "HI4nADCCj3F5",
        "outputId": "14a6299f-9427-4f4c-ea2e-53e21d18f676"
      },
      "outputs": [],
      "source": [
        "%cd {HOME}\n",
        "Image(filename=f'{HOME}/runs/detect/train/val_batch0_pred.jpg', width=600)"
      ]
    },
    {
      "cell_type": "markdown",
      "metadata": {
        "id": "6ODk1VTlevxn"
      },
      "source": [
        "## Validate custom model"
      ]
    },
    {
      "cell_type": "code",
      "execution_count": null,
      "metadata": {
        "colab": {
          "base_uri": "https://localhost:8080/"
        },
        "executionInfo": {
          "elapsed": 20873,
          "status": "ok",
          "timestamp": 1736695220469,
          "user": {
            "displayName": "",
            "userId": ""
          },
          "user_tz": -60
        },
        "id": "YpyuwrNlXc1P",
        "outputId": "7c3d9aa1-b34c-42fa-a095-99c3a5fc0f9c"
      },
      "outputs": [],
      "source": [
        "%cd {HOME}\n",
        "\n",
        "!yolo task=detect mode=val model={HOME}/runs/detect/train/weights/best.pt data={dataset.location}/data.yaml imgsz=1280"
      ]
    }
  ],
  "metadata": {
    "accelerator": "GPU",
    "colab": {
      "gpuType": "L4",
      "machine_shape": "hm",
      "name": "train_player_detector.ipynb",
      "provenance": [
        {
          "file_id": "https://github.com/roboflow/sports/blob/main/examples/soccer/notebooks/train_player_detector.ipynb",
          "timestamp": 1736682815107
        }
      ]
    },
    "kernelspec": {
      "display_name": "Python 3",
      "name": "python3"
    },
    "language_info": {
      "name": "python"
    }
  },
  "nbformat": 4,
  "nbformat_minor": 0
}
