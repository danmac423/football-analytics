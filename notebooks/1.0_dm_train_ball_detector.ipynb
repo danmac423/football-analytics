{
  "cells": [
    {
      "cell_type": "markdown",
      "metadata": {
        "id": "oe9vkEvFABbN"
      },
      "source": [
        "# Train Soccer Ball Detector\n",
        "\n",
        "---\n",
        "\n",
        "[![Download Dataset](https://app.roboflow.com/images/download-dataset-badge.svg)](https://universe.roboflow.com/roboflow-jvuqo/football-players-detection-3zvbc)"
      ]
    },
    {
      "cell_type": "markdown",
      "metadata": {
        "id": "I_SCI5WfyfFz"
      },
      "source": [
        "## Configure API keys\n",
        "\n",
        "- Open your [`Roboflow Settings`](https://app.roboflow.com/settings/api) page. Click `Copy`. This will place your private key in the clipboard.\n",
        "- In Colab, go to the left pane and click on `Secrets` (🔑). Store Roboflow API Key under the name `ROBOFLOW_API_KEY`."
      ]
    },
    {
      "cell_type": "markdown",
      "metadata": {
        "id": "FyRdDYkqAKN4"
      },
      "source": [
        "## Before you start\n",
        "\n",
        "Let's make sure that we have access to GPU. We can use `nvidia-smi` command to do that. In case of any problems navigate to `Edit` -> `Notebook settings` -> `Hardware accelerator`, set it to `GPU`, and then click `Save`."
      ]
    },
    {
      "cell_type": "code",
      "execution_count": null,
      "metadata": {
        "colab": {
          "base_uri": "https://localhost:8080/"
        },
        "executionInfo": {
          "elapsed": 336,
          "status": "ok",
          "timestamp": 1736675428907,
          "user": {
            "displayName": "",
            "userId": ""
          },
          "user_tz": -60
        },
        "id": "Y8cDtxLIBHgQ",
        "outputId": "80bc1725-cb20-4c19-c58c-422c1a63d574"
      },
      "outputs": [],
      "source": [
        "!nvidia-smi"
      ]
    },
    {
      "cell_type": "code",
      "execution_count": null,
      "metadata": {
        "colab": {
          "base_uri": "https://localhost:8080/"
        },
        "executionInfo": {
          "elapsed": 332,
          "status": "ok",
          "timestamp": 1736675434156,
          "user": {
            "displayName": "",
            "userId": ""
          },
          "user_tz": -60
        },
        "id": "CjpPg4mGKc1v",
        "outputId": "e3335ed8-b7ce-40f1-dc76-5ad475c3d273"
      },
      "outputs": [],
      "source": [
        "import os\n",
        "HOME = os.getcwd()\n",
        "print(HOME)"
      ]
    },
    {
      "cell_type": "markdown",
      "metadata": {
        "id": "3C3EO_2zNChu"
      },
      "source": [
        "## Install dependencies"
      ]
    },
    {
      "cell_type": "code",
      "execution_count": null,
      "metadata": {
        "colab": {
          "base_uri": "https://localhost:8080/"
        },
        "executionInfo": {
          "elapsed": 5930,
          "status": "ok",
          "timestamp": 1736675442740,
          "user": {
            "displayName": "",
            "userId": ""
          },
          "user_tz": -60
        },
        "id": "tdSMcABDNKW-",
        "outputId": "cd18f4ca-0a00-48df-86be-e9173718b022"
      },
      "outputs": [],
      "source": [
        "!pip install -q ultralytics roboflow\n",
        "!pip install google-cloud-secret-manager"
      ]
    },
    {
      "cell_type": "markdown",
      "metadata": {
        "id": "toRPG1ZRIRcp"
      },
      "source": [
        "## Imports"
      ]
    },
    {
      "cell_type": "code",
      "execution_count": null,
      "metadata": {
        "id": "CdPxfoInIS4o"
      },
      "outputs": [],
      "source": [
        "from roboflow import Roboflow\n",
        "from google.colab import userdata\n",
        "from IPython.display import Image\n",
        "from google.cloud import secretmanager\n"
      ]
    },
    {
      "cell_type": "markdown",
      "metadata": {
        "id": "HbnZCwOgHIBa"
      },
      "source": [
        "## Pull dataset"
      ]
    },
    {
      "cell_type": "code",
      "execution_count": null,
      "metadata": {
        "colab": {
          "base_uri": "https://localhost:8080/"
        },
        "executionInfo": {
          "elapsed": 10524,
          "status": "ok",
          "timestamp": 1736675484029,
          "user": {
            "displayName": "",
            "userId": ""
          },
          "user_tz": -60
        },
        "id": "BSd93ZJzZZKt",
        "outputId": "0da977c8-7096-4652-a5f4-a851e7d07912"
      },
      "outputs": [],
      "source": [
        "!mkdir {HOME}/datasets\n",
        "%cd {HOME}/datasets\n",
        "\n",
        "client = secretmanager.SecretManagerServiceClient()\n",
        "response = client.access_secret_version(request={\"name\": \"projects/559220193734/secrets/ROBOFLOW_API_KEY/versions/latest\"})\n",
        "\n",
        "ROBOFLOW_API_KEY = response.payload.data.decode(\"UTF-8\")\n",
        "rf = Roboflow(api_key=ROBOFLOW_API_KEY)\n",
        "\n",
        "project = rf.workspace(\"roboflow-jvuqo\").project(\"football-ball-detection-rejhg\")\n",
        "version = project.version(2)\n",
        "dataset = version.download(\"yolov11\")"
      ]
    },
    {
      "cell_type": "markdown",
      "metadata": {
        "id": "Log0mPTDJ70l"
      },
      "source": [
        "**NOTE:** Update `data.yaml` structure to align with the latest requirements of the `ultralytics` package.\n",
        "\n"
      ]
    },
    {
      "cell_type": "code",
      "execution_count": null,
      "metadata": {
        "id": "LdLBahQ5Fh6t"
      },
      "outputs": [],
      "source": []
    },
    {
      "cell_type": "code",
      "execution_count": null,
      "metadata": {
        "id": "imoXKjB0Jrsd"
      },
      "outputs": [],
      "source": [
        "!sed -i 's|\\(train: \\).*|\\1../train/images|' {dataset.location}/data.yaml\n",
        "!sed -i 's|\\(val: \\).*|\\1../valid/images|' {dataset.location}/data.yaml"
      ]
    },
    {
      "cell_type": "markdown",
      "metadata": {
        "id": "YUjFBKKqXa-u"
      },
      "source": [
        "## Custom training"
      ]
    },
    {
      "cell_type": "code",
      "execution_count": null,
      "metadata": {
        "colab": {
          "base_uri": "https://localhost:8080/"
        },
        "executionInfo": {
          "elapsed": 3609231,
          "status": "ok",
          "timestamp": 1736694627863,
          "user": {
            "displayName": "",
            "userId": ""
          },
          "user_tz": -60
        },
        "id": "D2YkphuiaE7_",
        "outputId": "81782638-4809-4f3c-fa74-e8118fc8385f"
      },
      "outputs": [],
      "source": [
        "%cd {HOME}\n",
        "\n",
        "!yolo task=detect mode=train model=yolo11x.pt data={dataset.location}/data.yaml batch=5 epochs=50 imgsz=1280 plots=True"
      ]
    },
    {
      "cell_type": "code",
      "execution_count": null,
      "metadata": {
        "colab": {
          "base_uri": "https://localhost:8080/"
        },
        "executionInfo": {
          "elapsed": 305,
          "status": "ok",
          "timestamp": 1736694997917,
          "user": {
            "displayName": "",
            "userId": ""
          },
          "user_tz": -60
        },
        "id": "1MScstfHhArr",
        "outputId": "3ae404a8-c630-4dc4-b522-f4f440a11535"
      },
      "outputs": [],
      "source": [
        "!ls {HOME}/football-analytics/runs/detect/train/"
      ]
    },
    {
      "cell_type": "code",
      "execution_count": null,
      "metadata": {
        "colab": {
          "base_uri": "https://localhost:8080/",
          "height": 485
        },
        "executionInfo": {
          "elapsed": 432,
          "status": "ok",
          "timestamp": 1736695016887,
          "user": {
            "displayName": "",
            "userId": ""
          },
          "user_tz": -60
        },
        "id": "_J35i8Ofhjxa",
        "outputId": "54921409-ebbb-4dd3-fd8b-17e1c4e2314e"
      },
      "outputs": [],
      "source": [
        "%cd {HOME}\n",
        "Image(filename=f'{HOME}/football-analytics/runs/detect/train/confusion_matrix.png', width=600)"
      ]
    },
    {
      "cell_type": "code",
      "execution_count": null,
      "metadata": {
        "colab": {
          "base_uri": "https://localhost:8080/",
          "height": 335
        },
        "executionInfo": {
          "elapsed": 790,
          "status": "ok",
          "timestamp": 1736695031384,
          "user": {
            "displayName": "",
            "userId": ""
          },
          "user_tz": -60
        },
        "id": "A-urTWUkhRmn",
        "outputId": "badf7cbe-cdc0-4f4e-be99-91d6dc3b666d"
      },
      "outputs": [],
      "source": [
        "%cd {HOME}\n",
        "Image(filename=f'{HOME}/football-analytics/runs/detect/train/results.png', width=600)"
      ]
    },
    {
      "cell_type": "code",
      "execution_count": null,
      "metadata": {
        "colab": {
          "base_uri": "https://localhost:8080/",
          "height": 372
        },
        "executionInfo": {
          "elapsed": 1000,
          "status": "ok",
          "timestamp": 1736695041187,
          "user": {
            "displayName": "",
            "userId": ""
          },
          "user_tz": -60
        },
        "id": "HI4nADCCj3F5",
        "outputId": "43ba52fc-0d60-4598-e896-22d7986032b8"
      },
      "outputs": [],
      "source": [
        "%cd {HOME}\n",
        "Image(filename=f'{HOME}/football-analytics/runs/detect/train/val_batch0_pred.jpg', width=600)"
      ]
    },
    {
      "cell_type": "markdown",
      "metadata": {
        "id": "6ODk1VTlevxn"
      },
      "source": [
        "## Validate custom model"
      ]
    },
    {
      "cell_type": "code",
      "execution_count": null,
      "metadata": {
        "colab": {
          "base_uri": "https://localhost:8080/"
        },
        "executionInfo": {
          "elapsed": 20564,
          "status": "ok",
          "timestamp": 1736695103002,
          "user": {
            "displayName": "",
            "userId": ""
          },
          "user_tz": -60
        },
        "id": "YpyuwrNlXc1P",
        "outputId": "fff43f03-b809-4c88-e44f-67670da57112"
      },
      "outputs": [],
      "source": [
        "%cd {HOME}\n"
      ]
    }
  ],
  "metadata": {
    "accelerator": "GPU",
    "colab": {
      "gpuType": "A100",
      "machine_shape": "hm",
      "name": "train_ball_detector.ipynb",
      "provenance": []
    },
    "kernelspec": {
      "display_name": "Python 3",
      "name": "python3"
    },
    "language_info": {
      "name": "python"
    }
  },
  "nbformat": 4,
  "nbformat_minor": 0
}
